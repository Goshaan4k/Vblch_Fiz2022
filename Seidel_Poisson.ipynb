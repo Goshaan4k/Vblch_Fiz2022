{
 "cells": [
  {
   "cell_type": "markdown",
   "metadata": {},
   "source": [
    "Before you turn this problem in, make sure everything runs as expected. First, **restart the kernel** (in the menubar, select Kernel$\\rightarrow$Restart) and then **run all cells** (in the menubar, select Cell$\\rightarrow$Run All).\n",
    "\n",
    "Make sure you fill in any place that says `YOUR CODE HERE` or \"YOUR ANSWER HERE\", as well as your github nickname below:"
   ]
  },
  {
   "cell_type": "code",
   "execution_count": 1,
   "metadata": {},
   "outputs": [],
   "source": [
    "NICKNAME = \"Goshaan4k\""
   ]
  },
  {
   "cell_type": "markdown",
   "metadata": {},
   "source": [
    "---"
   ]
  },
  {
   "cell_type": "code",
   "execution_count": 2,
   "metadata": {
    "ExecuteTime": {
     "end_time": "2022-12-10T20:06:38.249331Z",
     "start_time": "2022-12-10T20:06:38.120130Z"
    },
    "deletable": false,
    "editable": false,
    "nbgrader": {
     "cell_type": "code",
     "checksum": "82ecff7a3476ffeb1b53c115df234878",
     "grade": false,
     "grade_id": "cell-ed0e89e39ef5b952",
     "locked": true,
     "schema_version": 3,
     "solution": false,
     "task": false
    }
   },
   "outputs": [],
   "source": [
    "import numpy as np\n",
    "from scipy.linalg import block_diag"
   ]
  },
  {
   "cell_type": "markdown",
   "metadata": {
    "deletable": false,
    "editable": false,
    "nbgrader": {
     "cell_type": "markdown",
     "checksum": "610e25dac3db5ef664ea62f6bdb9aa1d",
     "grade": false,
     "grade_id": "cell-8ce45e51580dc492",
     "locked": true,
     "schema_version": 3,
     "solution": false,
     "task": false
    }
   },
   "source": [
    "Рассмотрим систему линейных уравнений, матрица правой части которой является \"ленточной\" и имеет следующую структуру: ненулевые элементы расположены на трех центральных диагонялях и на двух \"крыльях\". Матрицы такой структуры возникают, например, при решении задачи на нахождение электростатического потенциала $\\phi(x, y)$, cоздаваемого двумерным распределением заряда $\\rho(x, y)$ при дискретизации на сетке уравнения Пуассона\n",
    "\n",
    "$$\n",
    "\\Delta \\phi = -4\\pi \\rho\\;.\n",
    "$$\n",
    "Мы будем решать эту задачу для простоты на квадрате с нулевым потенциалом на границе.\n",
    "Простейшая сеточная аппроксимация - $\\phi(x_i,y_j) = \\phi_{ij}$ \"схема крест\"\n",
    "$$\n",
    "\\frac{u_{i-1,j} - 2 u_{ij}+u_{i+1,j}}{h^2} + \\frac{u_{i,j-1} - 2 u_{ij}+u_{i,j+1}}{h^2} = \\rho_{ij}.\n",
    "$$\n",
    "(детали см. напр. А.А. Самарский, А.В. Гулин, Численные методы, ч. 3 гл. 1, параграф 1).\n",
    "\n",
    "Заметим, что эти уравнения верны для внутренних узлов сетки, а поскольку внешние узлы сетки равны нулю, они войдут с нулевыми коэффициентами в уравнения на внутрении и можно о внешних узлах просто забыть.\n",
    "\n",
    "Представим вектор решение в виде одномерного вектора по правилу $\\phi_{i,j} = y_{j\\cdot n+i}$, где $n$ - число внутренних узлов на строне квадрата.\n",
    "\n",
    "Тогда всю систему уравнений можно представить в виде:\n",
    "$$\n",
    "\\hat{m} \\mathbf{y} = \\mathbf{\\tilde{f}}, \n",
    "$$\n",
    "где матрица $m$ имеет блочную структуру, отвечающую вычисления производных по оси x (при неизменном j) и два крыла, отвечающие соседним по $y$ клеткам, то есть их индекс сдвинут ровно на $n$. \n",
    "\n",
    "\n",
    "Размер матрицы растет с уменьшением шага сетки $h$ как $O(1/h^2)$. Таким образом, приходится иметь дело с разреженными матрицами огромного размера.\n",
    "\n",
    "Матрицу `m` создадим следующим образом:"
   ]
  },
  {
   "cell_type": "code",
   "execution_count": 3,
   "metadata": {
    "ExecuteTime": {
     "end_time": "2022-12-10T20:06:38.264066Z",
     "start_time": "2022-12-10T20:06:38.256805Z"
    },
    "deletable": false,
    "editable": false,
    "nbgrader": {
     "cell_type": "code",
     "checksum": "4d9bcb895defee34ae38d6101ff03c42",
     "grade": false,
     "grade_id": "cell-ead4a354f22c9a64",
     "locked": true,
     "schema_version": 3,
     "solution": false,
     "task": false
    }
   },
   "outputs": [],
   "source": [
    "def lhs_matrix(n):\n",
    "    # Диагональный блок\n",
    "    a = np.zeros((n, n))\n",
    "\n",
    "    idx = np.arange(n)\n",
    "\n",
    "    a[idx, idx] = -4 # u_{ij}\n",
    "    a[idx[:-1], idx[:-1]+1] = 1 # соседи по x\n",
    "    a[idx[1:], idx[1:]-1] = 1\n",
    "\n",
    "    # собираем блочно-диагональную матрицу `m`\n",
    "    m = block_diag(*(a,)*n)\n",
    "\n",
    "    # заполняем \"крылья\" - соседи по y\n",
    "    idx = np.arange(m.shape[0])\n",
    "\n",
    "    m[idx[:-n], idx[:-n] + n] = 1\n",
    "    m[idx[n:], idx[n:] - n] = 1\n",
    "    return m"
   ]
  },
  {
   "cell_type": "code",
   "execution_count": 4,
   "metadata": {
    "ExecuteTime": {
     "end_time": "2022-12-10T20:06:38.276949Z",
     "start_time": "2022-12-10T20:06:38.269745Z"
    },
    "deletable": false,
    "editable": false,
    "nbgrader": {
     "cell_type": "code",
     "checksum": "6b901a08458a86a01ba438f6a3c70bd6",
     "grade": false,
     "grade_id": "cell-4c5b195e789944ab",
     "locked": true,
     "schema_version": 3,
     "solution": false,
     "task": false
    }
   },
   "outputs": [
    {
     "name": "stdout",
     "output_type": "stream",
     "text": [
      "[[-4.  1.  0.  1.  0.  0.  0.  0.  0.]\n",
      " [ 1. -4.  1.  0.  1.  0.  0.  0.  0.]\n",
      " [ 0.  1. -4.  0.  0.  1.  0.  0.  0.]\n",
      " [ 1.  0.  0. -4.  1.  0.  1.  0.  0.]\n",
      " [ 0.  1.  0.  1. -4.  1.  0.  1.  0.]\n",
      " [ 0.  0.  1.  0.  1. -4.  0.  0.  1.]\n",
      " [ 0.  0.  0.  1.  0.  0. -4.  1.  0.]\n",
      " [ 0.  0.  0.  0.  1.  0.  1. -4.  1.]\n",
      " [ 0.  0.  0.  0.  0.  1.  0.  1. -4.]]\n"
     ]
    }
   ],
   "source": [
    "m = lhs_matrix(3)\n",
    "\n",
    "with np.printoptions(linewidth=99):\n",
    "    print(m)"
   ]
  },
  {
   "cell_type": "code",
   "execution_count": 7,
   "metadata": {
    "ExecuteTime": {
     "end_time": "2022-12-10T20:06:39.469137Z",
     "start_time": "2022-12-10T20:06:38.280339Z"
    },
    "deletable": false,
    "editable": false,
    "nbgrader": {
     "cell_type": "code",
     "checksum": "d1c92e9be65ac427184fdae9935f7d8f",
     "grade": false,
     "grade_id": "cell-26d617a08fa36eb1",
     "locked": true,
     "schema_version": 3,
     "solution": false,
     "task": false
    }
   },
   "outputs": [
    {
     "data": {
      "text/plain": [
       "<matplotlib.image.AxesImage at 0x1288df970>"
      ]
     },
     "execution_count": 7,
     "metadata": {},
     "output_type": "execute_result"
    },
    {
     "data": {
      "image/png": "[encoded data removed]",
      "text/plain": [
       "<Figure size 288x288 with 1 Axes>"
      ]
     },
     "metadata": {
      "needs_background": "light"
     },
     "output_type": "display_data"
    }
   ],
   "source": [
    "import matplotlib.pyplot as plt\n",
    "plt.matshow(m)"
   ]
  },
  {
   "cell_type": "markdown",
   "metadata": {
    "deletable": false,
    "editable": false,
    "nbgrader": {
     "cell_type": "markdown",
     "checksum": "872197230fdcc445249496793818faf7",
     "grade": false,
     "grade_id": "cell-0810641c405cedb0",
     "locked": true,
     "schema_version": 3,
     "solution": false,
     "task": false
    }
   },
   "source": [
    "Зададим вектор правой части системы $b$, символизирующий точечный заряд в центре: (для нечетного n)"
   ]
  },
  {
   "cell_type": "code",
   "execution_count": 8,
   "metadata": {
    "ExecuteTime": {
     "end_time": "2022-12-10T20:06:39.476133Z",
     "start_time": "2022-12-10T20:06:39.471201Z"
    },
    "deletable": false,
    "editable": false,
    "nbgrader": {
     "cell_type": "code",
     "checksum": "2ee23b7e4631364aa0def6e9025de5fe",
     "grade": false,
     "grade_id": "cell-bdf75cbde3d40c9b",
     "locked": true,
     "schema_version": 3,
     "solution": false,
     "task": false
    }
   },
   "outputs": [],
   "source": [
    "b = np.zeros(m.shape[0])\n",
    "b[m.shape[0]//2] = -1"
   ]
  },
  {
   "cell_type": "code",
   "execution_count": 9,
   "metadata": {
    "ExecuteTime": {
     "end_time": "2022-12-10T20:06:39.654359Z",
     "start_time": "2022-12-10T20:06:39.479477Z"
    },
    "deletable": false,
    "editable": false,
    "nbgrader": {
     "cell_type": "code",
     "checksum": "8e402fa3ebfa71bbe38fb3afce6445f7",
     "grade": false,
     "grade_id": "cell-f4d43a5bb89c304d",
     "locked": true,
     "schema_version": 3,
     "solution": false,
     "task": false
    }
   },
   "outputs": [
    {
     "data": {
      "text/plain": [
       "<matplotlib.image.AxesImage at 0x12895fd90>"
      ]
     },
     "execution_count": 9,
     "metadata": {},
     "output_type": "execute_result"
    },
    {
     "data": {
      "image/png": "[encoded data removed]",
      "text/plain": [
       "<Figure size 288x288 with 1 Axes>"
      ]
     },
     "metadata": {
      "needs_background": "light"
     },
     "output_type": "display_data"
    }
   ],
   "source": [
    "plt.matshow(b.reshape(3, 3))"
   ]
  },
  {
   "cell_type": "markdown",
   "metadata": {
    "deletable": false,
    "editable": false,
    "nbgrader": {
     "cell_type": "markdown",
     "checksum": "4818e389f558693d56e6bff7518c7d0d",
     "grade": false,
     "grade_id": "cell-3d07f62eb12bf684",
     "locked": true,
     "schema_version": 3,
     "solution": false,
     "task": false
    }
   },
   "source": [
    "Составьте функцию, вычисляющую решение системы уравнений $m x = b$ **методом Зейделя** с заданной точностью $\\epsilon$.\n",
    "\n",
    "Не пользуйтесь функциями `np.linalg.solve`, `np.linalg.inv` и т.п. Обратите внимание на функции `np.triu` и `scipy.linalg.solve_triangular`."
   ]
  },
  {
   "cell_type": "code",
   "execution_count": 10,
   "metadata": {
    "ExecuteTime": {
     "end_time": "2022-12-10T20:06:39.663326Z",
     "start_time": "2022-12-10T20:06:39.656394Z"
    },
    "deletable": false,
    "nbgrader": {
     "cell_type": "code",
     "checksum": "386955466ee6d63226201a37e3c5f0e8",
     "grade": false,
     "grade_id": "cell-d3e0976736f7d3f0",
     "locked": false,
     "schema_version": 3,
     "solution": true,
     "task": false
    }
   },
   "outputs": [],
   "source": [
    "from scipy.linalg import solve_triangular\n",
    "\n",
    "def seidel_solve(m, b, x0, eps=1e-5, maxiter=500):\n",
    "    \"\"\" Solve `m @ x = b` with Seidel iteration.\n",
    "    \n",
    "    Parameters\n",
    "    ----------\n",
    "    m : ndarray, shape (n, n)\n",
    "       Input matrix\n",
    "    b : ndarray, shape (n,)\n",
    "       Right-hand side\n",
    "    x0 : ndarray, shape (n, )\n",
    "       Initial point for the iteration\n",
    "    eps : float, optional\n",
    "       Target accuracy.\n",
    "       Stop iterations when the 2-norm of \n",
    "       `|x_k - x_{k-1}| < eps`\n",
    "    maxiter : int\n",
    "       Maximum allowed number of iterations.\n",
    "       \n",
    "    Returns\n",
    "    -------\n",
    "    x : ndarray, shape (n,)\n",
    "       The approximation to the solution of `m @ x = b`\n",
    "    nit : the number of iterations performed.\n",
    "    \"\"\"\n",
    "    n = len(m)\n",
    "    x = x0\n",
    "    k = 0\n",
    "    converge = False\n",
    "    while not converge and k < maxiter:\n",
    "        x_new = np.copy(x)\n",
    "        k += 1\n",
    "        for i in range(n):\n",
    "            s1 = sum(m[i][j] * x_new[j] for j in range(i))\n",
    "            s2 = sum(m[i][j] * x[j] for j in range(i + 1, n))\n",
    "            x_new[i] = (b[i] - s1 - s2) / m[i][i]\n",
    "\n",
    "        converge = np.linalg.norm(x_new - x) <= eps\n",
    "        x = x_new\n",
    "    return x_new, k"
   ]
  },
  {
   "cell_type": "code",
   "execution_count": null,
   "metadata": {
    "ExecuteTime": {
     "end_time": "2022-12-10T20:06:39.785497Z",
     "start_time": "2022-12-10T20:06:39.667143Z"
    },
    "deletable": false,
    "editable": false,
    "nbgrader": {
     "cell_type": "code",
     "checksum": "397e5092e4bf5d9b1dcbb011ea82c008",
     "grade": true,
     "grade_id": "cell-8f5b96cfad0e18d7",
     "locked": true,
     "points": 15,
     "schema_version": 3,
     "solution": false,
     "task": false
    }
   },
   "outputs": [],
   "source": [
    "m = lhs_matrix(n=6)\n",
    "b = np.zeros(m.shape[0])\n",
    "b[b.size//2] = 1\n",
    "\n",
    "x0 = np.ones(m.shape[0])\n",
    "x, nit = seidel_solve(m, b, x0)\n",
    "\n",
    "from numpy.testing import assert_allclose\n",
    "assert_allclose(x,\n",
    "                np.linalg.solve(m, b), atol=2e-5)\n"
   ]
  },
  {
   "cell_type": "markdown",
   "metadata": {
    "deletable": false,
    "editable": false,
    "nbgrader": {
     "cell_type": "markdown",
     "checksum": "da4cdd411367bdf8695254c4880f59b0",
     "grade": false,
     "grade_id": "cell-76a3476cfd72af3b",
     "locked": true,
     "schema_version": 3,
     "solution": false,
     "task": false
    }
   },
   "source": [
    "Прокомментируйте зависимость числа итераций, требуемых для достижения заданной точности, от $\\epsilon$, построив соовествующие график для какого-нибудь примера."
   ]
  },
  {
   "cell_type": "code",
   "execution_count": 11,
   "metadata": {},
   "outputs": [],
   "source": [
    "#Растет как 1/exp(x)^2"
   ]
  },
  {
   "cell_type": "code",
   "execution_count": 12,
   "metadata": {
    "deletable": false,
    "nbgrader": {
     "cell_type": "code",
     "checksum": "42758e1364c51624a2f1c1c7477db113",
     "grade": true,
     "grade_id": "cell-658060a2d41d4f41",
     "locked": false,
     "points": 3,
     "schema_version": 3,
     "solution": true,
     "task": false
    }
   },
   "outputs": [
    {
     "data": {
      "image/png": "[encoded data removed]",
      "text/plain": [
       "<Figure size 432x288 with 1 Axes>"
      ]
     },
     "metadata": {
      "needs_background": "light"
     },
     "output_type": "display_data"
    }
   ],
   "source": [
    "m = lhs_matrix(n=7)\n",
    "b = np.ones(m.shape[0])\n",
    "b[b.size//2] = 4\n",
    "\n",
    "x0 = np.ones(m.shape[0])\n",
    "eps_ = [10**(-i) for i in range(1,15)]\n",
    "nit_=[]\n",
    "for eps in eps_:\n",
    "    _, nit = seidel_solve(m, b, x0,eps=eps)\n",
    "    nit_.append(nit)\n",
    "plt.yscale('log')\n",
    "plt.xlabel('$N$')\n",
    "plt.ylabel(r'$ln \\epsilon$')\n",
    "plt.grid(True)\n",
    "plt.plot(nit_, eps_)\n",
    "plt.show()"
   ]
  },
  {
   "cell_type": "code",
   "execution_count": 13,
   "metadata": {
    "ExecuteTime": {
     "end_time": "2022-12-10T20:06:40.048210Z",
     "start_time": "2022-12-10T20:06:39.788510Z"
    },
    "deletable": false,
    "editable": false,
    "nbgrader": {
     "cell_type": "code",
     "checksum": "7f0f5fd771310a54532f959e11e262dd",
     "grade": false,
     "grade_id": "cell-bf7abf29a249439f",
     "locked": true,
     "schema_version": 3,
     "solution": false,
     "task": false
    }
   },
   "outputs": [
    {
     "data": {
      "text/plain": [
       "<matplotlib.image.AxesImage at 0x128c9cdc0>"
      ]
     },
     "execution_count": 13,
     "metadata": {},
     "output_type": "execute_result"
    },
    {
     "data": {
      "image/png": "[encoded data removed]",
      "text/plain": [
       "<Figure size 288x288 with 1 Axes>"
      ]
     },
     "metadata": {
      "needs_background": "light"
     },
     "output_type": "display_data"
    }
   ],
   "source": [
    "# Построим решение\n",
    "m = lhs_matrix(n=15)\n",
    "b = np.zeros(m.shape[0])\n",
    "b[b.size//2] = 1\n",
    "\n",
    "\n",
    "x0 = np.ones(m.shape[0])\n",
    "x, nit = seidel_solve(m, b, x0, eps=1e-6, maxiter=1000)\n",
    "x_res=x.reshape(15,15)\n",
    "plt.matshow(x_res)\n",
    "\n",
    "## если вы всё сделали правильно, ничего удивительного мы тут не увидим"
   ]
  },
  {
   "cell_type": "code",
   "execution_count": 14,
   "metadata": {
    "ExecuteTime": {
     "end_time": "2022-12-10T20:06:40.253836Z",
     "start_time": "2022-12-10T20:06:40.051122Z"
    },
    "deletable": false,
    "editable": false,
    "nbgrader": {
     "cell_type": "code",
     "checksum": "5f0523f7fc797c040bf1ea837d8ce769",
     "grade": false,
     "grade_id": "cell-f10fce5c82d492b9",
     "locked": true,
     "schema_version": 3,
     "solution": false,
     "task": false
    }
   },
   "outputs": [
    {
     "data": {
      "text/plain": [
       "[<matplotlib.lines.Line2D at 0x128ced790>]"
      ]
     },
     "execution_count": 14,
     "metadata": {},
     "output_type": "execute_result"
    },
    {
     "data": {
      "image/png": "[encoded data removed]",
      "text/plain": [
       "<Figure size 432x288 with 1 Axes>"
      ]
     },
     "metadata": {
      "needs_background": "light"
     },
     "output_type": "display_data"
    }
   ],
   "source": [
    "# Однако в нашем одномерном представлении зависимость менее тривиальна:\n",
    "plt.plot(x, 'o-')\n",
    "# Прокомментируйте характер зависимости значения от номера компоненты в ячейке ниже\n"
   ]
  },
  {
   "cell_type": "markdown",
   "metadata": {
    "ExecuteTime": {
     "end_time": "2022-12-10T19:30:50.891738Z",
     "start_time": "2022-12-10T19:30:50.886269Z"
    },
    "deletable": false,
    "nbgrader": {
     "cell_type": "markdown",
     "checksum": "a921970333e5c5a1cfd6e51e6446beee",
     "grade": true,
     "grade_id": "cell-401e999a75cd7271",
     "locked": false,
     "points": 2,
     "schema_version": 3,
     "solution": true,
     "task": false
    }
   },
   "source": [
    "YOUR ANSWER HERE"
   ]
  },
  {
   "cell_type": "code",
   "execution_count": 15,
   "metadata": {},
   "outputs": [],
   "source": [
    "#При одномерном разложении края строки края имеют значения меньше, чем центр, функция имеет волной вид - 1/r"
   ]
  },
  {
   "cell_type": "code",
   "execution_count": null,
   "metadata": {},
   "outputs": [],
   "source": []
  }
 ],
 "metadata": {
  "kernelspec": {
   "display_name": "Python 3 (ipykernel)",
   "language": "python",
   "name": "python3"
  },
  "language_info": {
   "codemirror_mode": {
    "name": "ipython",
    "version": 3
   },
   "file_extension": ".py",
   "mimetype": "text/x-python",
   "name": "python",
   "nbconvert_exporter": "python",
   "pygments_lexer": "ipython3",
   "version": "3.9.12"
  },
  "latex_envs": {
   "LaTeX_envs_menu_present": true,
   "autoclose": true,
   "autocomplete": false,
   "bibliofile": "biblio.bib",
   "cite_by": "apalike",
   "current_citInitial": 1,
   "eqLabelWithNumbers": true,
   "eqNumInitial": 1,
   "hotkeys": {
    "equation": "Ctrl-E",
    "itemize": "Ctrl-I"
   },
   "labels_anchors": false,
   "latex_user_defs": false,
   "report_style_numbering": false,
   "user_envs_cfg": false
  },
  "toc": {
   "base_numbering": 1,
   "nav_menu": {},
   "number_sections": true,
   "sideBar": true,
   "skip_h1_title": false,
   "title_cell": "Table of Contents",
   "title_sidebar": "Contents",
   "toc_cell": false,
   "toc_position": {},
   "toc_section_display": true,
   "toc_window_display": false
  }
 },
 "nbformat": 4,
 "nbformat_minor": 4
}
