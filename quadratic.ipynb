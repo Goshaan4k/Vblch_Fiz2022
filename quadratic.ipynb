{
 "cells": [
  {
   "cell_type": "code",
   "execution_count": 1,
   "id": "a47873a6",
   "metadata": {},
   "outputs": [],
   "source": [
    "NICKNAME = \"Goshaan4k\""
   ]
  },
  {
   "cell_type": "code",
   "execution_count": 2,
   "id": "9b7f5d18",
   "metadata": {},
   "outputs": [],
   "source": [
    "from cmath import sqrt as c_sqrt\n",
    "import decimal as dec\n",
    "\n",
    "def solve_quad(b, c):\n",
    "\n",
    "    d = dec.Decimal(str(b))*dec.Decimal(str(b))-dec.Decimal(str(4*c))\n",
    "    if d < 0:\n",
    "        d = c_sqrt(d)\n",
    "        x1 = (-b - d)/2\n",
    "        x2 = (-b + d)/2\n",
    "    else:\n",
    "        d = d.sqrt()\n",
    "        x1 = (dec.Decimal(str(-1*b)) - d)/dec.Decimal(2)\n",
    "        x2 = (dec.Decimal(str(-1*b)) + d)/dec.Decimal(2)\n",
    "    x1 = complex(x1)\n",
    "    x2 = complex(x2)\n",
    "    return(x1, x2)"
   ]
  },
  {
   "cell_type": "code",
   "execution_count": 3,
   "id": "dba82049",
   "metadata": {},
   "outputs": [],
   "source": [
    "from numpy.testing import assert_allclose\n",
    "\n",
    "variants = [{'b': 4.0, 'c': 3.0},\n",
    "            {'b': 2.0, 'c': 1.0},\n",
    "            {'b': 0.5, 'c': 4.0},\n",
    "            {'b': 1e10, 'c': 3.0},\n",
    "           ]\n",
    "\n",
    "for var in variants:\n",
    "    x1, x2 = solve_quad(**var)\n",
    "    assert_allclose(x1*x2, var['c'], rtol=1e-15)"
   ]
  },
  {
   "cell_type": "code",
   "execution_count": null,
   "id": "d78cd9ec",
   "metadata": {},
   "outputs": [],
   "source": []
  }
 ],
 "metadata": {
  "kernelspec": {
   "display_name": "Python 3 (ipykernel)",
   "language": "python",
   "name": "python3"
  },
  "language_info": {
   "codemirror_mode": {
    "name": "ipython",
    "version": 3
   },
   "file_extension": ".py",
   "mimetype": "text/x-python",
   "name": "python",
   "nbconvert_exporter": "python",
   "pygments_lexer": "ipython3",
   "version": "3.9.12"
  }
 },
 "nbformat": 4,
 "nbformat_minor": 5
}
